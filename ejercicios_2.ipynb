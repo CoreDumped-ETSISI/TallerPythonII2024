{
 "cells": [
  {
   "cell_type": "markdown",
   "metadata": {},
   "source": [
    "### Ejercicio 1 (2 ptos.)\n",
    "Se ha proporcionado un archivo de texto en formato raw(txt) que contiene información de varios youtubers famosos. \n",
    "\"youtubers_initial_1.txt\"\n",
    "Cada línea del archivo incluye datos separados por comas en el siguiente formato:\n",
    "\n",
    "- nombre, categoría, suscriptores, título_video1:visualizaciones1, título_video2:visualizaciones2, ..., red_social1:seguidores1, red_social2:seguidores2\n",
    "\n",
    "ejemplo:\n",
    "\n",
    "- Ibai, Entretenimiento, 12000000, La Velada del Año:8000000, Streams Increíbles:5000000, Entrevistas Épicas:3000000, Instagram:4000000, Twitter:3500000\n",
    "\n",
    "\n",
    "Tus tareas serán:\n",
    "1. Leer el archivo de texto y procesar cada línea para extraer la información y transformarla en una estructura JSON.\n",
    "\n",
    "2. Estructurar los datos en JSON para que cada youtuber tenga la siguiente estructura:\n",
    "\n",
    "`\"name\"`: Nombre del youtuber (cadena de texto).\n",
    "\n",
    "``\"category\"``: Categoría principal del canal (cadena de texto).\n",
    "\n",
    "``\"subscribers\"``: Número de suscriptores (número entero).\n",
    "\n",
    "``\"popular_videos\"``: Una lista de objetos, donde cada objeto tiene:\n",
    "\n",
    "- ``\"title\"``: Título del video (cadena de texto).\n",
    "- ``\"views\"``: Número de visualizaciones (número entero).\n",
    "\n",
    "``\"social_media\"``: Un diccionario donde las claves son las plataformas de redes sociales y los valores son el número de seguidores (número entero).\n",
    "3. Guardar el JSON generado en un nuevo archivo.\n",
    "\n",
    "Pista: puedes utilizar .isalpha() para diferenciar las cadenas pertenecientes a popular videos y social media"
   ]
  },
  {
   "cell_type": "code",
   "execution_count": null,
   "metadata": {},
   "outputs": [],
   "source": [
    "# respuesta\n"
   ]
  },
  {
   "cell_type": "markdown",
   "metadata": {},
   "source": [
    "### Ejercicio 2 (2 ptos.)"
   ]
  },
  {
   "cell_type": "markdown",
   "metadata": {},
   "source": [
    "Dado un archivo JSON (\"youtubers_initial_2.json\")con información sobre youtubers y las categorías en las que trabajan seleccione aleatoriamente dos youtubers utilizando la libreria `random` y verifique que pueden realizar una colaboración.\n",
    "- Para que sea posible realizarla, su categoría debe ser común\n",
    "En caso de que puedan colaborar, se debe registrar los nombres de los youtubers y la categoría común en una lista de colaboraciones.\n",
    "\n",
    "Se deben generar colaboraciones hasta que:\n",
    " - Se hayan registrado 5 colaboraciones, o\n",
    " - Se hayan realizado 10 intentos sin encontrar más colaboraciones.\n",
    "\n",
    "Las colaboraciones encontradas se deben guardar en un archivo JSON con la siguiente estructura:\n",
    "[\n",
    "    ...\n",
    "    {\"youtuber1\": \"\", \"youtuber2\": \"\", \"category\": \"\"},\n",
    "    ...\n",
    "]\n",
    "\n",
    "Restricciones:\n",
    "- Los youtubers seleccionados deben ser diferentes (un youtuber no puede hacer una colaboración consigo mismo)\n",
    "- La selección de categorías comunes debe ser aleatoria si hay más de una categoría común."
   ]
  },
  {
   "cell_type": "code",
   "execution_count": null,
   "metadata": {},
   "outputs": [],
   "source": [
    "# respuesta"
   ]
  },
  {
   "cell_type": "markdown",
   "metadata": {},
   "source": [
    "### Ejercicio 3 (3 ptos.)\n",
    "Eres un programador y puedes ser contratado por una empresa, en concreto por Innersloth.\n",
    "Para pasar la prueba inicial debes desarrollar un sistema básico para gestionar las características de los personajes de uno de sus juegos más famosos, Among Us.\n",
    "Cada personaje tiene roles específicos, pueden ser tripulantes o impostores, cadauno con diferentes acciones disponibles.\n",
    "Las acciones simplemente muestran en pantalla lo que está realizando el jugador\n",
    "\n",
    "Razona y modela la estuctura para que te contraten.\n",
    "\n",
    "Ten en cuenta que el código a ejecutar es:"
   ]
  },
  {
   "cell_type": "code",
   "execution_count": 8,
   "metadata": {},
   "outputs": [],
   "source": [
    "# rojo = Crewmate(name=\"Rojo\", color=\"rojo\")\n",
    "# negro = Impostor(name=\"Negro\", color=\"negro\")\n",
    "# print(\"Tripulante:\")\n",
    "# rojo.move()\n",
    "# rojo.report()\n",
    "# rojo.complete_task()\n",
    "# print(\"\\nImpostor:\")\n",
    "# negro.move()\n",
    "# negro.report()\n",
    "# negro.sabotage()\n",
    "# negro.eliminate()"
   ]
  },
  {
   "cell_type": "code",
   "execution_count": null,
   "metadata": {},
   "outputs": [],
   "source": [
    "# respuesta\n",
    "class Character:\n",
    "    pass\n"
   ]
  },
  {
   "cell_type": "markdown",
   "metadata": {},
   "source": [
    "Por último, debes crear una clase Task.\n",
    "Para que todo tenga sentido modifica el metodo complete_task de tu jugador de esta forma:\n",
    "- def complete_task(self, task):\n",
    "        task.complete()\n",
    "\n",
    "El estado de la Task puede ser: \n",
    "- \"Pendiente\" (para inicializar la tarea)\n",
    "- \"En progreso\" (para empezar la tarea)\n",
    "- \"Completada\" (una vez completada por un jugador)\n",
    "Los estados deben son modificados a lo largo del código de ejecución, viéndose reflejado en la pantalla.\n",
    "Razona y modela la estuctura para que te contraten.\n",
    "\n",
    "Ten en cuenta que el codigo a ejecutar es:"
   ]
  },
  {
   "cell_type": "code",
   "execution_count": 10,
   "metadata": {},
   "outputs": [],
   "source": [
    "# rojo = Crewmate(name=\"Rojo\", color=\"rojo\")\n",
    "# tarea_cables = Task(name=\"Reparar cables\", assigned_to=rojo)\n",
    "# print(f\"Tarea '{tarea_cables.name}' asignada a {tarea_cables.assigned_to.name}. Estado actual: {tarea_cables.status}.\")\n",
    "# tarea_cables.start()\n",
    "# rojo.complete_task(tarea_cables)"
   ]
  },
  {
   "cell_type": "code",
   "execution_count": null,
   "metadata": {},
   "outputs": [
    {
     "name": "stdout",
     "output_type": "stream",
     "text": [
      "Tarea 'Reparar cables' asignada a Rojo. Estado actual: Pendiente.\n",
      "Tarea 'Reparar cables' está en progreso.\n",
      "Tarea 'Reparar cables' completada por Rojo.\n"
     ]
    }
   ],
   "source": [
    "#respuesta\n",
    "\n",
    "class Task:\n",
    "    pass"
   ]
  }
 ],
 "metadata": {
  "kernelspec": {
   "display_name": "Python 3",
   "language": "python",
   "name": "python3"
  },
  "language_info": {
   "codemirror_mode": {
    "name": "ipython",
    "version": 3
   },
   "file_extension": ".py",
   "mimetype": "text/x-python",
   "name": "python",
   "nbconvert_exporter": "python",
   "pygments_lexer": "ipython3",
   "version": "3.10.5"
  }
 },
 "nbformat": 4,
 "nbformat_minor": 2
}
