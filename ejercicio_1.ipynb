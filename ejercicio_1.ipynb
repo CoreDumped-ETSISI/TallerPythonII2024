{
 "cells": [
  {
   "cell_type": "markdown",
   "metadata": {},
   "source": [
    "# PROBLEMA 1\n",
    "\n",
    "### Apartado 1: (1 pto.)\n",
    "\n",
    "Crea una clase Perro. Esta clase debe tener los siguientes atributos:\n",
    " - nombre (por default el que quieras)\n",
    " - color (por default el que quieras)\n",
    " - estado_humor (True significa feliz y False significa triste. Por default el que quieras)\n",
    " - hambre (True es que tiene hambre False es que no. Por default el que quieras)"
   ]
  },
  {
   "cell_type": "code",
   "execution_count": null,
   "metadata": {},
   "outputs": [],
   "source": []
  },
  {
   "cell_type": "markdown",
   "metadata": {},
   "source": [
    "\n",
    "\n",
    "### Apartado 2: (1 pto.)\n",
    "\n",
    "Crea un método interno de la clase que se llame give_treat(); este método no contiene parámetros y debe cambiar su estado de humor a feliz y que ya no tenga hambre."
   ]
  },
  {
   "cell_type": "code",
   "execution_count": null,
   "metadata": {},
   "outputs": [],
   "source": []
  },
  {
   "cell_type": "markdown",
   "metadata": {},
   "source": [
    "\n",
    "\n",
    "### Apartado 3: (1 pto.)\n",
    "\n",
    "Crea un método llamado adoptar() que reciba como parámetro un nuevo nombre y le cambie su nombre actual.\n",
    "\n",
    "Ahora crea una instancia de Perro (iniciado como te de la gana), usa el método adoptar() y comprueba que se le ha cambiado el nombre"
   ]
  },
  {
   "cell_type": "code",
   "execution_count": null,
   "metadata": {},
   "outputs": [],
   "source": []
  }
 ],
 "metadata": {
  "language_info": {
   "name": "python"
  }
 },
 "nbformat": 4,
 "nbformat_minor": 2
}
