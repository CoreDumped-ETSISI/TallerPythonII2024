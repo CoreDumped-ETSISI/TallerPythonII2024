{
 "cells": [
  {
   "cell_type": "markdown",
   "metadata": {},
   "source": [
    "## ¡Gloria al Imperio Galáctico!"
   ]
  },
  {
   "cell_type": "markdown",
   "metadata": {},
   "source": [
    "Eres un engranaje fundamental en la mayor maquinaria de orden y paz que la galaxia ha conocido: el Imperio Galáctico. No, no eres un piloto de caza TIE, ni un comandante en la flota estelar, pero no te subestimes. Tú eres un oficial administrativo de la armería en la Estrella de la Muerte, y tu trabajo es vital para la derrota de esos traicioneros y desordenados rebeldes.\n",
    "\n",
    "Mientras los soldados de asalto cargan con blásters E-11 y las turboláseres pulverizan a las flotas enemigas, tu papel es asegurar que cada arma, torpedo y pistón imperial esté exactamente donde debe estar. Después de todo, un Imperio bien administrado es un Imperio invencible."
   ]
  },
  {
   "cell_type": "markdown",
   "metadata": {},
   "source": [
    "### Ejercicio 1: Explorando el Inventario Imperial (2 ptos.)\n",
    "\n",
    "Como oficial administrativo de la armería en la Estrella de la Muerte, tu primera tarea es procesar el inventario detallado de cada unidad almacenado en un archivo JSON proporcionado por el departamento de logística. Este archivo contiene una lista de objetos, donde cada uno representa un arma específica, con su tipo, modelo, un identificador único y su estado (operativo, en reparación, restringido, etc)."
   ]
  },
  {
   "cell_type": "markdown",
   "metadata": {},
   "source": [
    "#### Apartado 1\n",
    "Carga los datos del archivo en una variable."
   ]
  },
  {
   "cell_type": "code",
   "execution_count": 73,
   "metadata": {},
   "outputs": [],
   "source": [
    "import json\n",
    "\n",
    "with open('armeria.json', 'r') as f:\n",
    "    armeria_data = json.load(f)"
   ]
  },
  {
   "cell_type": "markdown",
   "metadata": {},
   "source": [
    "#### Apartado 2\n",
    "Cuenta el número de armas que no están en reparación."
   ]
  },
  {
   "cell_type": "code",
   "execution_count": 74,
   "metadata": {},
   "outputs": [
    {
     "data": {
      "text/plain": [
       "1054"
      ]
     },
     "execution_count": 74,
     "metadata": {},
     "output_type": "execute_result"
    }
   ],
   "source": [
    "sum(objeto['estado'] != 'en reparacion' for objeto in armeria_data)"
   ]
  },
  {
   "cell_type": "markdown",
   "metadata": {},
   "source": [
    "#### Apartado 3\n",
    "\n",
    "Hay un objeto especial que no debería estar en los registros públicos, encuéntralo."
   ]
  },
  {
   "cell_type": "code",
   "execution_count": 75,
   "metadata": {},
   "outputs": [
    {
     "data": {
      "text/plain": [
       "[{'id': 582,\n",
       "  'tipo': 'sable de luz',\n",
       "  'modelo': 'CENSURADO',\n",
       "  'estado': 'CENSURADO',\n",
       "  'descripcion': 'CENSURADO'}]"
      ]
     },
     "execution_count": 75,
     "metadata": {},
     "output_type": "execute_result"
    }
   ],
   "source": [
    "[objeto for objeto in armeria_data if objeto['estado'] == 'CENSURADO']"
   ]
  },
  {
   "cell_type": "markdown",
   "metadata": {},
   "source": [
    "### Ejercicio 2: Sistema de Simulación de Blásters (3 ptos.)\n",
    "\n",
    "La armería de la Estrella de la Muerte no solo gestiona inventarios, sino que también realiza simulaciones para probar la efectividad de diferentes tipos de blásters en situaciones de combate. Como oficial administrativo con habilidades de programación, te han asignado la tarea de diseñar un sistema que represente los blásters imperiales mediante clases.\n",
    "\n",
    "Tu sistema debe utilizar los principios de herencia, polimorfismo y abstracción para garantizar que sea fácil de expandir y adaptar a nuevas armas.\n",
    "\n",
    "Un bláster debe cumplir el siguiente interfaz básica:\n",
    "- La propiedad `id (int)` un identificador único. La idea es que sea un atributo privado no modificable, así que guarda el valor en un atributo privado y define el _getter_ con el decorador `@property`.\n",
    "- La función `disparar(self, distancia: float) -> float` que simule disparos y devuelva la probabilidad de acertar estimada.\n",
    "\n",
    "Que no se te olvide definir el `__init__`, aunque no venga especificado son instancias, y en algún lugar tendrás que meter el id (debería ser pasado por parámetro)."
   ]
  },
  {
   "cell_type": "markdown",
   "metadata": {},
   "source": [
    "#### Apartado 1\n",
    "\n",
    "Crea la clase abstracta Blaster que represente un bláster genérico con las anotaciones de tipos correctas y añade documentación básica (una línea corta por cada método es suficiente)."
   ]
  },
  {
   "cell_type": "code",
   "execution_count": 76,
   "metadata": {},
   "outputs": [],
   "source": [
    "from abc import ABC, abstractmethod\n",
    "class Blaster(ABC):\n",
    "    '''Arma que dispara rayos de energia.'''\n",
    "    def __init__(self, id: int):\n",
    "        self.__id = id\n",
    "    \n",
    "    @property\n",
    "    def id(self) -> int:\n",
    "        '''Identificador unico del blaster.'''\n",
    "        return self.__id\n",
    "        \n",
    "    @abstractmethod\n",
    "    def disparar(self, distancia: float) -> float:\n",
    "        '''Realiza una simulacion de disparos de energia a una distancia dada.'''\n",
    "        ...\n"
   ]
  },
  {
   "cell_type": "markdown",
   "metadata": {},
   "source": [
    "#### Apartado 2\n",
    "\n",
    "Se pide que se implementen estas armas como subclases:\n",
    "- Bláster E-11 (E11): Su probabilidad de acertar es $\\frac{1}{2^{d}}$ siendo d la distancia en metros imperiales... ¡Normal que no dieran una bala en las pelis!\n",
    "- Repetidor TL-50 (TL50): Su probabilidad de acertar es $\\frac{1}{1.001^{d}}$\n",
    "- Francotirador DLT-19X (DLT19X): Su probabilidad de acertar es de $0.99$ independientemente de la distancia\n",
    "\n",
    "Nota 1: Véase que no hace falta anotar tipos ni añadir documentación al heredar de la clase Blaster.  \n",
    "Nota 2: Aunque el francotirador no necesite del argumento `distancia`, para cumplir con el poliformismo debe estar."
   ]
  },
  {
   "cell_type": "code",
   "execution_count": 77,
   "metadata": {},
   "outputs": [],
   "source": [
    "class E11(Blaster):\n",
    "    def disparar(self, distancia):\n",
    "        return 2**(-distancia)\n",
    "    \n",
    "class TL50(Blaster):\n",
    "    def disparar(self, distancia):\n",
    "        return 1.001**(-distancia)\n",
    "\n",
    "class DLT19X(Blaster):\n",
    "    def disparar(self, distancia):\n",
    "        return 0.99"
   ]
  },
  {
   "cell_type": "markdown",
   "metadata": {},
   "source": [
    "#### Apartado 3\n",
    "\n",
    "Obten la precisión media de las armas en la armería (los datos que has sacado del archivo JSON).  \n",
    "Sólo usa aquellos blásters de los que has definido clases (no olvides el guión que hemos tenido que quitar para ponerle nombres a las clases) y que cuyo estado no sea 'en reparacion'.  \n",
    "Por cada bláster haz 10000 simulaciones a distancias aleatorias (uniformemente) entre 0.0 y 10.0 metros y luego saca la media de todas las simulaciones de todas las armas."
   ]
  },
  {
   "cell_type": "code",
   "execution_count": 78,
   "metadata": {},
   "outputs": [
    {
     "data": {
      "text/plain": [
       "0.1826283060968316"
      ]
     },
     "execution_count": 78,
     "metadata": {},
     "output_type": "execute_result"
    }
   ],
   "source": [
    "import random\n",
    "\n",
    "precisiones = []\n",
    "for objeto in armeria_data:\n",
    "    if objeto['estado'] != 'en reparacion':\n",
    "        if objeto['modelo'] == 'E-11':\n",
    "            blaster = E11(objeto['id'])\n",
    "        elif objeto['modelo'] == 'TL-50':\n",
    "            blaster = TL50(objeto['id'])\n",
    "        elif objeto['modelo'] == 'DLT-19X':\n",
    "            blaster = DLT19X(objeto['id'])\n",
    "        else:\n",
    "            continue\n",
    "        \n",
    "        for _ in range(10_000):\n",
    "            precisiones.append(blaster.disparar(random.random()*10))\n",
    "            \n",
    "sum(precisiones)/len(precisiones)"
   ]
  },
  {
   "cell_type": "markdown",
   "metadata": {},
   "source": [
    "Debería dar 0.182..."
   ]
  },
  {
   "cell_type": "markdown",
   "metadata": {},
   "source": [
    "### Ejercicio 3: ¡Emergencia Rebelde! (3 ptos.)"
   ]
  },
  {
   "cell_type": "markdown",
   "metadata": {},
   "source": [
    "¡Alarma en la Estrella de la Muerte! Un grupo de pilotos rebeldes ha logrado infiltrarse en el perímetro de seguridad, y su objetivo es claro: destruir la estación espacial más temida de la galaxia. Como oficial imperial, tu misión es implementar el sistema de defensa de la Estrella de la Muerte utilizando programación orientada a objetos.\n",
    "\n",
    "Tu solución debe coordinar sistemas de defensa, cazas TIE y oficiales estratégicos para impedir que los rebeldes logren su objetivo.\n",
    "\n",
    "Primero vamos a hacer unas cuantas clases vacías, pero siguen una estructura de herencia interesante sobre la que estaremos trabajando."
   ]
  },
  {
   "cell_type": "code",
   "execution_count": null,
   "metadata": {},
   "outputs": [],
   "source": [
    "# NO HAY QUE IMPLEMENTAR NADA AQUI\n",
    "\n",
    "class Nave:\n",
    "    def __str__(self) -> str:\n",
    "        return self.__class__.__name__\n",
    "    \n",
    "class Caza(Nave): pass\n",
    "\n",
    "class Bombardero(Nave): pass\n",
    "    \n",
    "    \n",
    "class NaveRebelde(Nave): pass\n",
    "    \n",
    "class AlaX(NaveRebelde, Caza): pass\n",
    "    \n",
    "class AlaY(NaveRebelde, Caza, Bombardero): pass\n",
    "\n",
    "class MG100(NaveRebelde, Bombardero): pass\n",
    "\n",
    "class CazaTIE(Caza): pass"
   ]
  },
  {
   "cell_type": "markdown",
   "metadata": {},
   "source": [
    "Ahora ten en cuenta estas reglas para determinar la mejor forma de defensa:\n",
    "- Los cazas hacen 1 de daño;\n",
    "- Los bombarderos hacen 5 de daño;\n",
    "- Si hay más de 20 cazas, los cazas pasan de hacer 1 de daño a hacer 6.\n",
    "\n",
    "Cada dos rondas spawneará un Caza más."
   ]
  },
  {
   "cell_type": "code",
   "execution_count": 86,
   "metadata": {},
   "outputs": [],
   "source": [
    "def attack_manager(func):\n",
    "    def wrapper(self, atacantes: list[Nave]):\n",
    "        print(f'Atacando con {len(atacantes)} naves')\n",
    "        result = func(self, atacantes)\n",
    "        atacantes.remove(result)\n",
    "        print(f'Destruyendo la nave {result}')\n",
    "        \n",
    "    return wrapper\n",
    "\n",
    "class SistemaDeDefensa:\n",
    "\n",
    "    @attack_manager\n",
    "    def ataque(self, atacantes: list[Nave]) -> Nave:\n",
    "        '''Frente a un ataque, el sistema de defensa elige una nave atacante y \n",
    "        la destruye.'''\n",
    "        \n",
    "        # Es importante darse cuenta de que hay una nave que cuenta tanto como \n",
    "        # bombardero como caza, esa es la prioridad siempre. (HERENCIA DE CLASES \n",
    "        # MÚLTIPLE)\t\n",
    "        cazas_bombarderos = sum(\n",
    "            isinstance(nave, Caza) and isinstance(nave, Bombardero)\n",
    "            for nave in atacantes\n",
    "        )\n",
    "        if cazas_bombarderos:\n",
    "            return next(\n",
    "                nave\n",
    "                for nave in atacantes\n",
    "                if isinstance(nave, Caza) and isinstance(nave, Bombardero)\n",
    "            )\n",
    "        \n",
    "        # Luego nuestra prioridad va cambiando entre bombarderos y cazas según \n",
    "        # el número de cazas (debe mantenerse por igual o menor que 20)\n",
    "        cazas = sum(\n",
    "            isinstance(nave, Caza) and not isinstance(nave, Bombardero)\n",
    "            for nave in atacantes\n",
    "        )\n",
    "        if cazas >= 20:\n",
    "            return next(nave for nave in atacantes if isinstance(nave, Caza))\n",
    "        \n",
    "        bombarderos = sum(\n",
    "            isinstance(nave, Bombardero) and not isinstance(nave, Caza)\n",
    "            for nave in atacantes\n",
    "        )\n",
    "        if bombarderos > 0:\n",
    "            return next(nave for nave in atacantes if isinstance(nave, Bombardero))\n",
    "        \n",
    "        # Una vez no queden bombarderos, se destruyen cazas hasta que no haya \n",
    "        # más.\n",
    "        return next(nave for nave in atacantes if isinstance(nave, Caza))"
   ]
  },
  {
   "cell_type": "code",
   "execution_count": 87,
   "metadata": {},
   "outputs": [
    {
     "name": "stdout",
     "output_type": "stream",
     "text": [
      "Atacando con 29 naves\n",
      "Destruyendo la nave AlaY\n",
      "Atacando con 28 naves\n",
      "Destruyendo la nave AlaY\n",
      "Atacando con 28 naves\n",
      "Destruyendo la nave AlaY\n",
      "Atacando con 27 naves\n",
      "Destruyendo la nave AlaY\n",
      "Atacando con 27 naves\n",
      "Destruyendo la nave AlaY\n",
      "Atacando con 26 naves\n",
      "Destruyendo la nave AlaY\n",
      "Atacando con 26 naves\n",
      "Destruyendo la nave AlaY\n",
      "Atacando con 25 naves\n",
      "Destruyendo la nave AlaY\n",
      "Atacando con 25 naves\n",
      "Destruyendo la nave AlaY\n",
      "Atacando con 24 naves\n",
      "Destruyendo la nave AlaY\n",
      "Atacando con 24 naves\n",
      "Destruyendo la nave AlaY\n",
      "Atacando con 23 naves\n",
      "Destruyendo la nave AlaY\n",
      "Atacando con 23 naves\n",
      "Destruyendo la nave MG100\n",
      "Atacando con 22 naves\n",
      "Destruyendo la nave MG100\n",
      "Atacando con 22 naves\n",
      "Destruyendo la nave AlaX\n",
      "Atacando con 21 naves\n",
      "Destruyendo la nave MG100\n",
      "Atacando con 21 naves\n",
      "Destruyendo la nave AlaX\n",
      "Atacando con 20 naves\n",
      "Destruyendo la nave MG100\n",
      "Atacando con 20 naves\n",
      "Destruyendo la nave AlaX\n",
      "Atacando con 19 naves\n",
      "Destruyendo la nave AlaX\n",
      "Atacando con 19 naves\n",
      "Destruyendo la nave AlaX\n",
      "Atacando con 18 naves\n",
      "Destruyendo la nave AlaX\n",
      "Atacando con 18 naves\n",
      "Destruyendo la nave AlaX\n",
      "Atacando con 17 naves\n",
      "Destruyendo la nave AlaX\n",
      "Atacando con 17 naves\n",
      "Destruyendo la nave AlaX\n",
      "Atacando con 16 naves\n",
      "Destruyendo la nave AlaX\n",
      "Atacando con 16 naves\n",
      "Destruyendo la nave AlaX\n",
      "Atacando con 15 naves\n",
      "Destruyendo la nave AlaX\n",
      "Atacando con 15 naves\n",
      "Destruyendo la nave AlaX\n",
      "Atacando con 14 naves\n",
      "Destruyendo la nave AlaX\n",
      "Atacando con 14 naves\n",
      "Destruyendo la nave AlaX\n",
      "Atacando con 13 naves\n",
      "Destruyendo la nave AlaX\n",
      "Atacando con 13 naves\n",
      "Destruyendo la nave AlaX\n",
      "Atacando con 12 naves\n",
      "Destruyendo la nave AlaX\n",
      "Atacando con 12 naves\n",
      "Destruyendo la nave AlaX\n",
      "Atacando con 11 naves\n",
      "Destruyendo la nave AlaX\n",
      "Atacando con 11 naves\n",
      "Destruyendo la nave AlaX\n",
      "Atacando con 10 naves\n",
      "Destruyendo la nave AlaX\n",
      "Atacando con 10 naves\n",
      "Destruyendo la nave AlaX\n",
      "Atacando con 9 naves\n",
      "Destruyendo la nave AlaX\n",
      "Atacando con 9 naves\n",
      "Destruyendo la nave AlaX\n",
      "Atacando con 8 naves\n",
      "Destruyendo la nave AlaX\n",
      "Atacando con 8 naves\n",
      "Destruyendo la nave AlaX\n",
      "Atacando con 7 naves\n",
      "Destruyendo la nave AlaX\n",
      "Atacando con 7 naves\n",
      "Destruyendo la nave AlaX\n",
      "Atacando con 6 naves\n",
      "Destruyendo la nave AlaX\n",
      "Atacando con 6 naves\n",
      "Destruyendo la nave AlaX\n",
      "Atacando con 5 naves\n",
      "Destruyendo la nave AlaX\n",
      "Atacando con 5 naves\n",
      "Destruyendo la nave AlaX\n",
      "Atacando con 4 naves\n",
      "Destruyendo la nave AlaX\n",
      "Atacando con 4 naves\n",
      "Destruyendo la nave AlaX\n",
      "Atacando con 3 naves\n",
      "Destruyendo la nave AlaX\n",
      "Atacando con 3 naves\n",
      "Destruyendo la nave AlaX\n",
      "Atacando con 2 naves\n",
      "Destruyendo la nave AlaX\n",
      "Atacando con 2 naves\n",
      "Destruyendo la nave AlaX\n",
      "Atacando con 1 naves\n",
      "Destruyendo la nave AlaX\n",
      "Ganaste\n"
     ]
    }
   ],
   "source": [
    "def simulacion(): # No modificar o no saldra el resultado correcto para la comprobacion\n",
    "    sistema = SistemaDeDefensa()\n",
    "    naves = [\n",
    "        *[AlaX() for _ in range(12)], \n",
    "        *[AlaY() for _ in range(12)], \n",
    "        *[MG100() for _ in range(4)]\n",
    "    ]\n",
    "    vida = 969\n",
    "    while len(naves) > 0 and vida > 0:\n",
    "        naves.append(AlaX())\n",
    "        sistema.ataque(naves)\n",
    "        sistema.ataque(naves)\n",
    "        cazas = sum(isinstance(nave, Caza) for nave in naves)\n",
    "        bombarderos = sum(isinstance(nave, Bombardero) for nave in naves)\n",
    "        potencia = cazas + 5*bombarderos\n",
    "        if cazas > 20:\n",
    "            potencia += cazas * 5\n",
    "        vida -= potencia\n",
    "\n",
    "    if vida <= 0:\n",
    "        print('PERDISTE')\n",
    "    else:\n",
    "        print('Ganaste')    \n",
    "    \n",
    "simulacion()"
   ]
  },
  {
   "cell_type": "markdown",
   "metadata": {},
   "source": [
    "Para comprobar el resultado vamos a necesitar descargar una librería:"
   ]
  },
  {
   "cell_type": "code",
   "execution_count": 82,
   "metadata": {},
   "outputs": [
    {
     "name": "stdout",
     "output_type": "stream",
     "text": [
      "Defaulting to user installation because normal site-packages is not writeable\n",
      "Requirement already satisfied: cryptography in c:\\users\\pc\\appdata\\local\\packages\\pythonsoftwarefoundation.python.3.12_qbz5n2kfra8p0\\localcache\\local-packages\\python312\\site-packages (44.0.0)\n",
      "Requirement already satisfied: cffi>=1.12 in c:\\users\\pc\\appdata\\local\\packages\\pythonsoftwarefoundation.python.3.12_qbz5n2kfra8p0\\localcache\\local-packages\\python312\\site-packages (from cryptography) (1.17.1)\n",
      "Requirement already satisfied: pycparser in c:\\users\\pc\\appdata\\local\\packages\\pythonsoftwarefoundation.python.3.12_qbz5n2kfra8p0\\localcache\\local-packages\\python312\\site-packages (from cffi>=1.12->cryptography) (2.22)\n",
      "Note: you may need to restart the kernel to use updated packages.\n"
     ]
    }
   ],
   "source": [
    "%pip install cryptography"
   ]
  },
  {
   "cell_type": "code",
   "execution_count": 83,
   "metadata": {},
   "outputs": [],
   "source": [
    "from cryptography.fernet import Fernet\n",
    "import hashlib, base64\n",
    "\n",
    "def decrypt_message(encrypted_message: str, key: str) -> str:\n",
    "    fernet = Fernet(base64.urlsafe_b64encode(hashlib.sha256(key.encode()).digest()))\n",
    "    decrypted = fernet.decrypt(encrypted_message.encode())\n",
    "    return decrypted.decode()"
   ]
  },
  {
   "cell_type": "markdown",
   "metadata": {},
   "source": [
    "Copia la salida de la célda de la simulación, ejecuta el siguiente código, pega el resultado y dale a Enter. (Si el resultado está bien debería salir impreso un mensaje)"
   ]
  },
  {
   "cell_type": "code",
   "execution_count": 84,
   "metadata": {},
   "outputs": [
    {
     "name": "stdout",
     "output_type": "stream",
     "text": [
      "¡Victoria para el Imperio Galáctico! 🚀⚔️\n",
      "\n",
      "Gracias a tus habilidades estratégicas y el poderío del arsenal imperial, hemos repelido con éxito el ataque rebelde y salvado la Estrella de la Muerte. 🌌✨\n",
      "\n",
      "Los rebeldes huyeron derrotados, y una vez más, el orden y la disciplina prevalecen en la galaxia. Tu compromiso y valentía no pasarán desapercibidos; el Emperador estará orgulloso de tu servicio.\n",
      "\n",
      "¡Larga vida al Imperio!\n",
      "Recuerda: unidos, somos invencibles. 🖤\n"
     ]
    }
   ],
   "source": [
    "print(decrypt_message('gAAAAABnVipC3Eo6tP2kPkWjvku9mXn687o9nnzkHezic9Jp9a0txM2Yx2cX-0Vb5HYkPtQIER0phNHcaV8ApTFo-VDK3VL530ObYnzVTsRgbUv9TavUEO3ONtIPAa7kJMbb5ldEYe4H1OkYIBCzCuHAtanpPwb1jFvC_PJo2durZeBK2fSFrdGAylUpWr5j9Rk2vVyr-qcHbw36TEP68uN6IL8waWtA8AwtdhUm9jM-lkzrP3M2-yUKJgoHWtZTePSWiU-2G9S9R-VQpQZuH2OJrCaXfIUtLBp3vk4GcNoHlbnW3RGGd-jce2ZPeEd_ciuJbyZdlm2tTxe6TXe25MnWwvrwxwzy0FwFm8YKen_AtMchXXlB0BxansU3nbfRX6sBjSwqEo9Zgat3PTC6Okh57PvjwP6UNaPUmm0RVpfCrcCGJOcCDspG6MnAt1QgQRoJRyLeyWtAACnEaeo9ZRZmkiiZbVebrYlHv6S0CLjN0PG7NlUebb7c0pbgD4dwpYklY7oeGWWlNyyshlOpXjT8TxowzKiFe6ldzshI6iE3Z5MCG1wJaL8mVawHL6jxZlsRjxNzhsCN9xjfN7GzCft3hhF3NjMaFq3jR3UtqqVPCcOt-iG2sf1ilCKQfBX8BTHWzAruRmilcgOv_J5AQ4eZ62ahv4vITGiqtOqoDd3Q4sCJweQVTk3H_IQ9B9ShjdfMkJdilPW8lNyrIEYUF-N1D8DJky7eyg==', input('Inserte el resultado de el ejercicio anterior: ')))"
   ]
  }
 ],
 "metadata": {
  "kernelspec": {
   "display_name": "Python 3",
   "language": "python",
   "name": "python3"
  },
  "language_info": {
   "codemirror_mode": {
    "name": "ipython",
    "version": 3
   },
   "file_extension": ".py",
   "mimetype": "text/x-python",
   "name": "python",
   "nbconvert_exporter": "python",
   "pygments_lexer": "ipython3",
   "version": "3.12.8"
  }
 },
 "nbformat": 4,
 "nbformat_minor": 2
}
